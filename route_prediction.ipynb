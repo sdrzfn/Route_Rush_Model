{
 "cells": [
  {
   "cell_type": "code",
   "execution_count": 2,
   "metadata": {
    "colab": {
     "base_uri": "https://localhost:8080/"
    },
    "id": "3kfQlkquLrB7",
    "outputId": "d6813bbf-15a8-44b1-f85f-2e43f082bcd6"
   },
   "outputs": [
    {
     "name": "stdout",
     "output_type": "stream",
     "text": [
      "Requirement already satisfied: requests in /usr/local/lib/python3.10/dist-packages (2.32.3)\n",
      "Requirement already satisfied: pandas in /usr/local/lib/python3.10/dist-packages (2.2.2)\n",
      "Collecting googlemaps\n",
      "  Downloading googlemaps-4.10.0.tar.gz (33 kB)\n",
      "  Preparing metadata (setup.py) ... \u001b[?25l\u001b[?25hdone\n",
      "Collecting osmnx\n",
      "  Downloading osmnx-2.0.0-py3-none-any.whl.metadata (4.8 kB)\n",
      "Requirement already satisfied: folium in /usr/local/lib/python3.10/dist-packages (0.18.0)\n",
      "Requirement already satisfied: geopy in /usr/local/lib/python3.10/dist-packages (2.4.1)\n",
      "Requirement already satisfied: charset-normalizer<4,>=2 in /usr/local/lib/python3.10/dist-packages (from requests) (3.4.0)\n",
      "Requirement already satisfied: idna<4,>=2.5 in /usr/local/lib/python3.10/dist-packages (from requests) (3.10)\n",
      "Requirement already satisfied: urllib3<3,>=1.21.1 in /usr/local/lib/python3.10/dist-packages (from requests) (2.2.3)\n",
      "Requirement already satisfied: certifi>=2017.4.17 in /usr/local/lib/python3.10/dist-packages (from requests) (2024.8.30)\n",
      "Requirement already satisfied: numpy>=1.22.4 in /usr/local/lib/python3.10/dist-packages (from pandas) (1.26.4)\n",
      "Requirement already satisfied: python-dateutil>=2.8.2 in /usr/local/lib/python3.10/dist-packages (from pandas) (2.8.2)\n",
      "Requirement already satisfied: pytz>=2020.1 in /usr/local/lib/python3.10/dist-packages (from pandas) (2024.2)\n",
      "Requirement already satisfied: tzdata>=2022.7 in /usr/local/lib/python3.10/dist-packages (from pandas) (2024.2)\n",
      "Requirement already satisfied: geopandas>=1.0 in /usr/local/lib/python3.10/dist-packages (from osmnx) (1.0.1)\n",
      "Requirement already satisfied: networkx>=2.5 in /usr/local/lib/python3.10/dist-packages (from osmnx) (3.4.2)\n",
      "Requirement already satisfied: shapely>=2.0 in /usr/local/lib/python3.10/dist-packages (from osmnx) (2.0.6)\n",
      "Requirement already satisfied: branca>=0.6.0 in /usr/local/lib/python3.10/dist-packages (from folium) (0.8.0)\n",
      "Requirement already satisfied: jinja2>=2.9 in /usr/local/lib/python3.10/dist-packages (from folium) (3.1.4)\n",
      "Requirement already satisfied: xyzservices in /usr/local/lib/python3.10/dist-packages (from folium) (2024.9.0)\n",
      "Requirement already satisfied: geographiclib<3,>=1.52 in /usr/local/lib/python3.10/dist-packages (from geopy) (2.0)\n",
      "Requirement already satisfied: pyogrio>=0.7.2 in /usr/local/lib/python3.10/dist-packages (from geopandas>=1.0->osmnx) (0.10.0)\n",
      "Requirement already satisfied: packaging in /usr/local/lib/python3.10/dist-packages (from geopandas>=1.0->osmnx) (24.2)\n",
      "Requirement already satisfied: pyproj>=3.3.0 in /usr/local/lib/python3.10/dist-packages (from geopandas>=1.0->osmnx) (3.7.0)\n",
      "Requirement already satisfied: MarkupSafe>=2.0 in /usr/local/lib/python3.10/dist-packages (from jinja2>=2.9->folium) (3.0.2)\n",
      "Requirement already satisfied: six>=1.5 in /usr/local/lib/python3.10/dist-packages (from python-dateutil>=2.8.2->pandas) (1.16.0)\n",
      "Downloading osmnx-2.0.0-py3-none-any.whl (99 kB)\n",
      "\u001b[2K   \u001b[90m━━━━━━━━━━━━━━━━━━━━━━━━━━━━━━━━━━━━━━━━\u001b[0m \u001b[32m99.4/99.4 kB\u001b[0m \u001b[31m5.0 MB/s\u001b[0m eta \u001b[36m0:00:00\u001b[0m\n",
      "\u001b[?25hBuilding wheels for collected packages: googlemaps\n",
      "  Building wheel for googlemaps (setup.py) ... \u001b[?25l\u001b[?25hdone\n",
      "  Created wheel for googlemaps: filename=googlemaps-4.10.0-py3-none-any.whl size=40715 sha256=d07be7284b019ccbfda4cdf760eff00638ae779a0acef15da7d5ead3becd97a1\n",
      "  Stored in directory: /root/.cache/pip/wheels/17/f8/79/999d5d37118fd35d7219ef57933eb9d09886c4c4503a800f84\n",
      "Successfully built googlemaps\n",
      "Installing collected packages: googlemaps, osmnx\n",
      "Successfully installed googlemaps-4.10.0 osmnx-2.0.0\n"
     ]
    }
   ],
   "source": [
    "pip install requests pandas googlemaps osmnx folium geopy\n"
   ]
  },
  {
   "cell_type": "code",
   "execution_count": 3,
   "metadata": {
    "colab": {
     "base_uri": "https://localhost:8080/"
    },
    "id": "npsgSDcDWU7J",
    "outputId": "804107e6-f147-4254-a508-5a7da08a3053"
   },
   "outputs": [
    {
     "name": "stdout",
     "output_type": "stream",
     "text": [
      "Mounted at /content/gdrive\n"
     ]
    }
   ],
   "source": [
    "import googlemaps\n",
    "import pandas as pd\n",
    "import time\n",
    "from sklearn.preprocessing import LabelEncoder\n",
    "from sklearn.model_selection import train_test_split\n",
    "import tensorflow as tf\n",
    "from tensorflow.keras import layers\n",
    "import osmnx as ox\n",
    "import networkx as nx\n",
    "import folium\n",
    "import numpy as np\n",
    "import matplotlib.pyplot as plt\n",
    "from google.colab import drive\n",
    "drive.mount('/content/gdrive')"
   ]
  },
  {
   "cell_type": "code",
   "execution_count": 4,
   "metadata": {
    "id": "QSMWoSD5WiXM"
   },
   "outputs": [],
   "source": [
    "def fetch_route_osmnx(origin_coords, destination_coords, travel_mode=\"walk\"):\n",
    "    \"\"\"\n",
    "    Fetches a route between origin and destination coordinates using OSMnx.\n",
    "\n",
    "    Args:\n",
    "        origin_coords (tuple): (latitude, longitude) of the origin.\n",
    "        destination_coords (tuple): (latitude, longitude) of the destination.\n",
    "        travel_mode (str): Mode of travel. Options: \"walk\", \"bike\", \"drive\".\n",
    "\n",
    "    Returns:\n",
    "        list: List of (latitude, longitude) tuples representing the route.\n",
    "    \"\"\"\n",
    "    # Get the graph for the specified travel mode\n",
    "    mode_to_network_type = {\n",
    "        \"walk\": \"walk\",\n",
    "        \"bike\": \"bike\",\n",
    "        \"drive\": \"drive\",\n",
    "    }\n",
    "    network_type = mode_to_network_type.get(travel_mode, \"walk\")\n",
    "\n",
    "    # Load the graph around the origin\n",
    "    G = ox.graph_from_point(origin_coords, dist=2000, network_type=network_type)\n",
    "\n",
    "    # Find the nearest nodes to the origin and destination\n",
    "    origin_node = ox.distance.nearest_nodes(G, origin_coords[1], origin_coords[0])\n",
    "    destination_node = ox.distance.nearest_nodes(G, destination_coords[1], destination_coords[0])\n",
    "\n",
    "    # Calculate the shortest path\n",
    "    route = nx.shortest_path(G, origin_node, destination_node, weight=\"length\")\n",
    "\n",
    "    # Get the coordinates of the route\n",
    "    route_coords = [(G.nodes[node]['y'], G.nodes[node]['x']) for node in route]\n",
    "    return route_coords"
   ]
  },
  {
   "cell_type": "code",
   "execution_count": 5,
   "metadata": {
    "colab": {
     "base_uri": "https://localhost:8080/"
    },
    "id": "jDk48d27kOzb",
    "outputId": "26afe7fe-4827-4636-ec14-4bb1f6005f28"
   },
   "outputs": [
    {
     "name": "stdout",
     "output_type": "stream",
     "text": [
      "   latitude   longitude\n",
      "0 -7.294157  112.738049\n",
      "1 -7.294074  112.738224\n",
      "2 -7.292868  112.737626\n",
      "3 -7.292457  112.737422\n",
      "4 -7.292400  112.737415\n"
     ]
    }
   ],
   "source": [
    "def process_route_data(route_coords):\n",
    "    \"\"\"\n",
    "    Converts route coordinates into a Pandas DataFrame.\n",
    "\n",
    "    Args:\n",
    "        route_coords (list): List of (latitude, longitude) tuples.\n",
    "\n",
    "    Returns:\n",
    "        pd.DataFrame: Tabular representation of route steps.\n",
    "    \"\"\"\n",
    "    # Create DataFrame from route coordinates\n",
    "    route_df = pd.DataFrame(route_coords, columns=[\"latitude\", \"longitude\"])\n",
    "    return route_df\n",
    "\n",
    "# Define origin and destination coordinates\n",
    "origin = (-7.2946612, 112.7380407)  # Example: Empire State Building\n",
    "destination = (-7.2628945, 112.7411374)  # Example: Astoria Park\n",
    "\n",
    "# Fetch and process the route\n",
    "route_coords = fetch_route_osmnx(origin, destination, travel_mode=\"walk\")\n",
    "route_df = process_route_data(route_coords)\n",
    "\n",
    "print(route_df.head())  # Display the first few rows of the route\n",
    "\n",
    "# Save to CSV for future use\n",
    "route_df.to_csv(\"route_data_osmnx.csv\", index=False)"
   ]
  },
  {
   "cell_type": "code",
   "execution_count": 34,
   "metadata": {
    "colab": {
     "base_uri": "https://localhost:8080/"
    },
    "id": "35108KPLWm7M",
    "outputId": "3d58ddb7-6f5e-4f07-8362-8324d32fc2d1"
   },
   "outputs": [
    {
     "name": "stdout",
     "output_type": "stream",
     "text": [
      "Route map saved as route_map_osmnx.html.\n"
     ]
    }
   ],
   "source": [
    "def plot_route_on_map(route_coords):\n",
    "    \"\"\"\n",
    "    Plot the route on a map using Folium.\n",
    "\n",
    "    Args:\n",
    "        route_coords (list): List of (latitude, longitude) tuples.\n",
    "    \"\"\"\n",
    "    # Create a map centered at the midpoint of the route\n",
    "    mid_idx = len(route_coords) // 2\n",
    "    route_map = folium.Map(location=route_coords[mid_idx], zoom_start=14)\n",
    "\n",
    "    # Add the route to the map\n",
    "    folium.PolyLine(route_coords, color=\"blue\", weight=5).add_to(route_map)\n",
    "\n",
    "    # Mark start and end points\n",
    "    folium.Marker(route_coords[0], popup=\"Start\", icon=folium.Icon(color=\"green\")).add_to(route_map)\n",
    "    folium.Marker(route_coords[-1], popup=\"End\", icon=folium.Icon(color=\"red\")).add_to(route_map)\n",
    "\n",
    "    return route_map\n",
    "\n",
    "route_map = plot_route_on_map(route_coords)\n",
    "route_map.save(\"route_map_osmnx.html\")\n",
    "print(\"Route map saved as route_map_osmnx.html.\")"
   ]
  },
  {
   "cell_type": "code",
   "execution_count": 35,
   "metadata": {
    "colab": {
     "base_uri": "https://localhost:8080/"
    },
    "id": "G7EBDIgnRAhQ",
    "outputId": "78ece07d-8561-4945-a0e2-d8cf06a6e0a7"
   },
   "outputs": [
    {
     "name": "stdout",
     "output_type": "stream",
     "text": [
      "Training features (X_train): (28, 3)\n",
      "Training labels (y_train): 28\n"
     ]
    }
   ],
   "source": [
    "def generate_route_instructions(route_coords, G):\n",
    "    \"\"\"\n",
    "    Generates basic textual instructions for a route based on OSMnx graph.\n",
    "\n",
    "    Args:\n",
    "        route_coords (list): List of (latitude, longitude) tuples.\n",
    "        G (networkx.MultiDiGraph): OSMnx graph.\n",
    "\n",
    "    Returns:\n",
    "        list: List of textual instructions for the route.\n",
    "    \"\"\"\n",
    "    instructions = []\n",
    "    for i in range(len(route_coords) - 1):\n",
    "        # Get the current and next nodes\n",
    "        current_node = ox.distance.nearest_nodes(G, route_coords[i][1], route_coords[i][0])\n",
    "        next_node = ox.distance.nearest_nodes(G, route_coords[i + 1][1], route_coords[i + 1][0])\n",
    "\n",
    "        # Get edge data between the current and next node\n",
    "        edge_data = G.get_edge_data(current_node, next_node, default={})\n",
    "\n",
    "        # Extract street name or set to \"Unknown\"\n",
    "        street_name = edge_data.get(0, {}).get(\"name\", \"Unknown\")\n",
    "\n",
    "        # Approximate an instruction\n",
    "        instruction = f\"Go towards {street_name}\" if street_name else \"Continue straight\"\n",
    "        instructions.append(instruction)\n",
    "    return instructions\n",
    "\n",
    "# Define origin and destination coordinates\n",
    "origin = (-7.2946612, 112.7380407)  # Example: Empire State Building\n",
    "destination = (-7.2628945, 112.7411374)  # Example: Astoria Park\n",
    "\n",
    "# Fetch route using OSMnx\n",
    "travel_mode = \"walk\"\n",
    "G = ox.graph_from_point(origin, dist=2000, network_type=travel_mode)\n",
    "origin_node = ox.distance.nearest_nodes(G, origin[1], origin[0])\n",
    "destination_node = ox.distance.nearest_nodes(G, destination[1], destination[0])\n",
    "route = nx.shortest_path(G, origin_node, destination_node, weight=\"length\")\n",
    "route_coords = [(G.nodes[node]['y'], G.nodes[node]['x']) for node in route]\n",
    "\n",
    "# Generate instructions\n",
    "instructions = generate_route_instructions(route_coords, G)\n",
    "\n",
    "# Create a DataFrame\n",
    "route_df = pd.DataFrame({\n",
    "    \"start_location\": route_coords[:-1],\n",
    "    \"end_location\": route_coords[1:],\n",
    "    \"instruction\": instructions,\n",
    "    \"distance\": [nx.shortest_path_length(G, route[i], route[i+1], weight=\"length\") for i in range(len(route) - 1)],\n",
    "    \"duration\": [0.02 * nx.shortest_path_length(G, route[i], route[i+1], weight=\"length\") for i in range(len(route) - 1)],  # Assuming average walking speed\n",
    "})\n",
    "\n",
    "# Encode text instructions as numerical data\n",
    "label_encoder = LabelEncoder()\n",
    "route_df['instruction_encoded'] = label_encoder.fit_transform(route_df['instruction'])\n",
    "\n",
    "# Features: Encoded instructions, distance, and duration\n",
    "X = route_df[['instruction_encoded', 'distance', 'duration']].values\n",
    "\n",
    "# Labels: Predict next end location (latitude, longitude)\n",
    "y = route_df['end_location'].apply(lambda loc: (loc[0], loc[1])).tolist()\n",
    "\n",
    "# Train-test split\n",
    "X_train, X_test, y_train, y_test = train_test_split(X, y, test_size=0.2, random_state=42)\n",
    "\n",
    "print(\"Training features (X_train):\", X_train.shape)\n",
    "print(\"Training labels (y_train):\", len(y_train))"
   ]
  },
  {
   "cell_type": "code",
   "execution_count": 81,
   "metadata": {
    "colab": {
     "base_uri": "https://localhost:8080/",
     "height": 280
    },
    "id": "X7qCfK8aYb5x",
    "outputId": "1de2ff54-a675-46b9-f378-adbbc1b5714d"
   },
   "outputs": [
    {
     "name": "stderr",
     "output_type": "stream",
     "text": [
      "/usr/local/lib/python3.10/dist-packages/keras/src/layers/core/dense.py:87: UserWarning: Do not pass an `input_shape`/`input_dim` argument to a layer. When using Sequential models, prefer using an `Input(shape)` object as the first layer in the model instead.\n",
      "  super().__init__(activity_regularizer=activity_regularizer, **kwargs)\n"
     ]
    },
    {
     "data": {
      "text/html": [
       "<pre style=\"white-space:pre;overflow-x:auto;line-height:normal;font-family:Menlo,'DejaVu Sans Mono',consolas,'Courier New',monospace\"><span style=\"font-weight: bold\">Model: \"sequential_3\"</span>\n",
       "</pre>\n"
      ],
      "text/plain": [
       "\u001b[1mModel: \"sequential_3\"\u001b[0m\n"
      ]
     },
     "metadata": {},
     "output_type": "display_data"
    },
    {
     "data": {
      "text/html": [
       "<pre style=\"white-space:pre;overflow-x:auto;line-height:normal;font-family:Menlo,'DejaVu Sans Mono',consolas,'Courier New',monospace\">┏━━━━━━━━━━━━━━━━━━━━━━━━━━━━━━━━━━━━━━┳━━━━━━━━━━━━━━━━━━━━━━━━━━━━━┳━━━━━━━━━━━━━━━━━┓\n",
       "┃<span style=\"font-weight: bold\"> Layer (type)                         </span>┃<span style=\"font-weight: bold\"> Output Shape                </span>┃<span style=\"font-weight: bold\">         Param # </span>┃\n",
       "┡━━━━━━━━━━━━━━━━━━━━━━━━━━━━━━━━━━━━━━╇━━━━━━━━━━━━━━━━━━━━━━━━━━━━━╇━━━━━━━━━━━━━━━━━┩\n",
       "│ dense_10 (<span style=\"color: #0087ff; text-decoration-color: #0087ff\">Dense</span>)                     │ (<span style=\"color: #00d7ff; text-decoration-color: #00d7ff\">None</span>, <span style=\"color: #00af00; text-decoration-color: #00af00\">64</span>)                  │             <span style=\"color: #00af00; text-decoration-color: #00af00\">256</span> │\n",
       "├──────────────────────────────────────┼─────────────────────────────┼─────────────────┤\n",
       "│ dense_11 (<span style=\"color: #0087ff; text-decoration-color: #0087ff\">Dense</span>)                     │ (<span style=\"color: #00d7ff; text-decoration-color: #00d7ff\">None</span>, <span style=\"color: #00af00; text-decoration-color: #00af00\">32</span>)                  │           <span style=\"color: #00af00; text-decoration-color: #00af00\">2,080</span> │\n",
       "├──────────────────────────────────────┼─────────────────────────────┼─────────────────┤\n",
       "│ dense_12 (<span style=\"color: #0087ff; text-decoration-color: #0087ff\">Dense</span>)                     │ (<span style=\"color: #00d7ff; text-decoration-color: #00d7ff\">None</span>, <span style=\"color: #00af00; text-decoration-color: #00af00\">1</span>)                   │              <span style=\"color: #00af00; text-decoration-color: #00af00\">33</span> │\n",
       "└──────────────────────────────────────┴─────────────────────────────┴─────────────────┘\n",
       "</pre>\n"
      ],
      "text/plain": [
       "┏━━━━━━━━━━━━━━━━━━━━━━━━━━━━━━━━━━━━━━┳━━━━━━━━━━━━━━━━━━━━━━━━━━━━━┳━━━━━━━━━━━━━━━━━┓\n",
       "┃\u001b[1m \u001b[0m\u001b[1mLayer (type)                        \u001b[0m\u001b[1m \u001b[0m┃\u001b[1m \u001b[0m\u001b[1mOutput Shape               \u001b[0m\u001b[1m \u001b[0m┃\u001b[1m \u001b[0m\u001b[1m        Param #\u001b[0m\u001b[1m \u001b[0m┃\n",
       "┡━━━━━━━━━━━━━━━━━━━━━━━━━━━━━━━━━━━━━━╇━━━━━━━━━━━━━━━━━━━━━━━━━━━━━╇━━━━━━━━━━━━━━━━━┩\n",
       "│ dense_10 (\u001b[38;5;33mDense\u001b[0m)                     │ (\u001b[38;5;45mNone\u001b[0m, \u001b[38;5;34m64\u001b[0m)                  │             \u001b[38;5;34m256\u001b[0m │\n",
       "├──────────────────────────────────────┼─────────────────────────────┼─────────────────┤\n",
       "│ dense_11 (\u001b[38;5;33mDense\u001b[0m)                     │ (\u001b[38;5;45mNone\u001b[0m, \u001b[38;5;34m32\u001b[0m)                  │           \u001b[38;5;34m2,080\u001b[0m │\n",
       "├──────────────────────────────────────┼─────────────────────────────┼─────────────────┤\n",
       "│ dense_12 (\u001b[38;5;33mDense\u001b[0m)                     │ (\u001b[38;5;45mNone\u001b[0m, \u001b[38;5;34m1\u001b[0m)                   │              \u001b[38;5;34m33\u001b[0m │\n",
       "└──────────────────────────────────────┴─────────────────────────────┴─────────────────┘\n"
      ]
     },
     "metadata": {},
     "output_type": "display_data"
    },
    {
     "data": {
      "text/html": [
       "<pre style=\"white-space:pre;overflow-x:auto;line-height:normal;font-family:Menlo,'DejaVu Sans Mono',consolas,'Courier New',monospace\"><span style=\"font-weight: bold\"> Total params: </span><span style=\"color: #00af00; text-decoration-color: #00af00\">2,369</span> (9.25 KB)\n",
       "</pre>\n"
      ],
      "text/plain": [
       "\u001b[1m Total params: \u001b[0m\u001b[38;5;34m2,369\u001b[0m (9.25 KB)\n"
      ]
     },
     "metadata": {},
     "output_type": "display_data"
    },
    {
     "data": {
      "text/html": [
       "<pre style=\"white-space:pre;overflow-x:auto;line-height:normal;font-family:Menlo,'DejaVu Sans Mono',consolas,'Courier New',monospace\"><span style=\"font-weight: bold\"> Trainable params: </span><span style=\"color: #00af00; text-decoration-color: #00af00\">2,369</span> (9.25 KB)\n",
       "</pre>\n"
      ],
      "text/plain": [
       "\u001b[1m Trainable params: \u001b[0m\u001b[38;5;34m2,369\u001b[0m (9.25 KB)\n"
      ]
     },
     "metadata": {},
     "output_type": "display_data"
    },
    {
     "data": {
      "text/html": [
       "<pre style=\"white-space:pre;overflow-x:auto;line-height:normal;font-family:Menlo,'DejaVu Sans Mono',consolas,'Courier New',monospace\"><span style=\"font-weight: bold\"> Non-trainable params: </span><span style=\"color: #00af00; text-decoration-color: #00af00\">0</span> (0.00 B)\n",
       "</pre>\n"
      ],
      "text/plain": [
       "\u001b[1m Non-trainable params: \u001b[0m\u001b[38;5;34m0\u001b[0m (0.00 B)\n"
      ]
     },
     "metadata": {},
     "output_type": "display_data"
    }
   ],
   "source": [
    "# Define the model to predict distances for ranking\n",
    "def create_model():\n",
    "    model = tf.keras.Sequential([\n",
    "        layers.Dense(64, activation='relu', input_shape=(3,)),  # Input: [latitude, longitude, placeholder]\n",
    "        layers.Dense(32, activation='relu'),\n",
    "        layers.Dense(1, activation='linear')  # Output: Predicted distance\n",
    "    ])\n",
    "    model.compile(optimizer='adam', loss='mse', metrics=['mae'])\n",
    "    return model\n",
    "\n",
    "# Create the model\n",
    "model = create_model()\n",
    "model.summary()"
   ]
  },
  {
   "cell_type": "code",
   "execution_count": 82,
   "metadata": {
    "colab": {
     "base_uri": "https://localhost:8080/"
    },
    "id": "oUEXkJNAYiA9",
    "outputId": "69dca187-d90e-403e-93b2-388fe0b34ce1"
   },
   "outputs": [
    {
     "name": "stdout",
     "output_type": "stream",
     "text": [
      "Epoch 1/50\n",
      "\u001b[1m8/8\u001b[0m \u001b[32m━━━━━━━━━━━━━━━━━━━━\u001b[0m\u001b[37m\u001b[0m \u001b[1m2s\u001b[0m 39ms/step - loss: 107925037121536.0000 - mae: 9881303.0000 - val_loss: 126314761682944.0000 - val_mae: 10688787.0000\n",
      "Epoch 2/50\n",
      "\u001b[1m8/8\u001b[0m \u001b[32m━━━━━━━━━━━━━━━━━━━━\u001b[0m\u001b[37m\u001b[0m \u001b[1m0s\u001b[0m 10ms/step - loss: 115006783881216.0000 - mae: 10202696.0000 - val_loss: 126314392584192.0000 - val_mae: 10688772.0000\n",
      "Epoch 3/50\n",
      "\u001b[1m8/8\u001b[0m \u001b[32m━━━━━━━━━━━━━━━━━━━━\u001b[0m\u001b[37m\u001b[0m \u001b[1m0s\u001b[0m 9ms/step - loss: 122539116331008.0000 - mae: 10429365.0000 - val_loss: 126313964765184.0000 - val_mae: 10688754.0000\n",
      "Epoch 4/50\n",
      "\u001b[1m8/8\u001b[0m \u001b[32m━━━━━━━━━━━━━━━━━━━━\u001b[0m\u001b[37m\u001b[0m \u001b[1m0s\u001b[0m 9ms/step - loss: 116361325969408.0000 - mae: 10105234.0000 - val_loss: 126313520168960.0000 - val_mae: 10688736.0000\n",
      "Epoch 5/50\n",
      "\u001b[1m8/8\u001b[0m \u001b[32m━━━━━━━━━━━━━━━━━━━━\u001b[0m\u001b[37m\u001b[0m \u001b[1m0s\u001b[0m 10ms/step - loss: 114355584630784.0000 - mae: 10170118.0000 - val_loss: 126313025241088.0000 - val_mae: 10688716.0000\n",
      "Epoch 6/50\n",
      "\u001b[1m8/8\u001b[0m \u001b[32m━━━━━━━━━━━━━━━━━━━━\u001b[0m\u001b[37m\u001b[0m \u001b[1m0s\u001b[0m 10ms/step - loss: 121844740915200.0000 - mae: 10519398.0000 - val_loss: 126312438038528.0000 - val_mae: 10688692.0000\n",
      "Epoch 7/50\n",
      "\u001b[1m8/8\u001b[0m \u001b[32m━━━━━━━━━━━━━━━━━━━━\u001b[0m\u001b[37m\u001b[0m \u001b[1m0s\u001b[0m 11ms/step - loss: 102378690838528.0000 - mae: 9556697.0000 - val_loss: 126311775338496.0000 - val_mae: 10688664.0000\n",
      "Epoch 8/50\n",
      "\u001b[1m8/8\u001b[0m \u001b[32m━━━━━━━━━━━━━━━━━━━━\u001b[0m\u001b[37m\u001b[0m \u001b[1m0s\u001b[0m 10ms/step - loss: 114279835500544.0000 - mae: 10124009.0000 - val_loss: 126310944866304.0000 - val_mae: 10688630.0000\n",
      "Epoch 9/50\n",
      "\u001b[1m8/8\u001b[0m \u001b[32m━━━━━━━━━━━━━━━━━━━━\u001b[0m\u001b[37m\u001b[0m \u001b[1m0s\u001b[0m 9ms/step - loss: 118887236501504.0000 - mae: 10343601.0000 - val_loss: 126309955010560.0000 - val_mae: 10688589.0000\n",
      "Epoch 10/50\n",
      "\u001b[1m8/8\u001b[0m \u001b[32m━━━━━━━━━━━━━━━━━━━━\u001b[0m\u001b[37m\u001b[0m \u001b[1m0s\u001b[0m 8ms/step - loss: 116559330672640.0000 - mae: 10191723.0000 - val_loss: 126308805771264.0000 - val_mae: 10688542.0000\n",
      "Epoch 11/50\n",
      "\u001b[1m8/8\u001b[0m \u001b[32m━━━━━━━━━━━━━━━━━━━━\u001b[0m\u001b[37m\u001b[0m \u001b[1m0s\u001b[0m 10ms/step - loss: 108764149579776.0000 - mae: 9729422.0000 - val_loss: 126307446816768.0000 - val_mae: 10688486.0000\n",
      "Epoch 12/50\n",
      "\u001b[1m8/8\u001b[0m \u001b[32m━━━━━━━━━━━━━━━━━━━━\u001b[0m\u001b[37m\u001b[0m \u001b[1m0s\u001b[0m 5ms/step - loss: 114789963530240.0000 - mae: 9925392.0000 - val_loss: 126305811038208.0000 - val_mae: 10688418.0000\n",
      "Epoch 13/50\n",
      "\u001b[1m8/8\u001b[0m \u001b[32m━━━━━━━━━━━━━━━━━━━━\u001b[0m\u001b[37m\u001b[0m \u001b[1m0s\u001b[0m 6ms/step - loss: 114703611199488.0000 - mae: 9990142.0000 - val_loss: 126303881658368.0000 - val_mae: 10688339.0000\n",
      "Epoch 14/50\n",
      "\u001b[1m8/8\u001b[0m \u001b[32m━━━━━━━━━━━━━━━━━━━━\u001b[0m\u001b[37m\u001b[0m \u001b[1m0s\u001b[0m 6ms/step - loss: 103149033488384.0000 - mae: 9477773.0000 - val_loss: 126301725786112.0000 - val_mae: 10688251.0000\n",
      "Epoch 15/50\n",
      "\u001b[1m8/8\u001b[0m \u001b[32m━━━━━━━━━━━━━━━━━━━━\u001b[0m\u001b[37m\u001b[0m \u001b[1m0s\u001b[0m 5ms/step - loss: 111353410879488.0000 - mae: 9946599.0000 - val_loss: 126299150483456.0000 - val_mae: 10688144.0000\n",
      "Epoch 16/50\n",
      "\u001b[1m8/8\u001b[0m \u001b[32m━━━━━━━━━━━━━━━━━━━━\u001b[0m\u001b[37m\u001b[0m \u001b[1m0s\u001b[0m 8ms/step - loss: 109360873209856.0000 - mae: 9708313.0000 - val_loss: 126296214470656.0000 - val_mae: 10688025.0000\n",
      "Epoch 17/50\n",
      "\u001b[1m8/8\u001b[0m \u001b[32m━━━━━━━━━━━━━━━━━━━━\u001b[0m\u001b[37m\u001b[0m \u001b[1m0s\u001b[0m 5ms/step - loss: 110489283592192.0000 - mae: 9854486.0000 - val_loss: 126292900970496.0000 - val_mae: 10687888.0000\n",
      "Epoch 18/50\n",
      "\u001b[1m8/8\u001b[0m \u001b[32m━━━━━━━━━━━━━━━━━━━━\u001b[0m\u001b[37m\u001b[0m \u001b[1m0s\u001b[0m 5ms/step - loss: 115641583403008.0000 - mae: 10080117.0000 - val_loss: 126289092542464.0000 - val_mae: 10687733.0000\n",
      "Epoch 19/50\n",
      "\u001b[1m8/8\u001b[0m \u001b[32m━━━━━━━━━━━━━━━━━━━━\u001b[0m\u001b[37m\u001b[0m \u001b[1m0s\u001b[0m 5ms/step - loss: 115328914817024.0000 - mae: 10170674.0000 - val_loss: 126284839518208.0000 - val_mae: 10687558.0000\n",
      "Epoch 20/50\n",
      "\u001b[1m8/8\u001b[0m \u001b[32m━━━━━━━━━━━━━━━━━━━━\u001b[0m\u001b[37m\u001b[0m \u001b[1m0s\u001b[0m 6ms/step - loss: 113235411861504.0000 - mae: 10196960.0000 - val_loss: 126280125120512.0000 - val_mae: 10687366.0000\n",
      "Epoch 21/50\n",
      "\u001b[1m8/8\u001b[0m \u001b[32m━━━━━━━━━━━━━━━━━━━━\u001b[0m\u001b[37m\u001b[0m \u001b[1m0s\u001b[0m 5ms/step - loss: 102325599338496.0000 - mae: 9529517.0000 - val_loss: 126274991292416.0000 - val_mae: 10687156.0000\n",
      "Epoch 22/50\n",
      "\u001b[1m8/8\u001b[0m \u001b[32m━━━━━━━━━━━━━━━━━━━━\u001b[0m\u001b[37m\u001b[0m \u001b[1m0s\u001b[0m 5ms/step - loss: 119764131250176.0000 - mae: 10315861.0000 - val_loss: 126269119266816.0000 - val_mae: 10686916.0000\n",
      "Epoch 23/50\n",
      "\u001b[1m8/8\u001b[0m \u001b[32m━━━━━━━━━━━━━━━━━━━━\u001b[0m\u001b[37m\u001b[0m \u001b[1m0s\u001b[0m 6ms/step - loss: 119088974135296.0000 - mae: 10349015.0000 - val_loss: 126262559375360.0000 - val_mae: 10686648.0000\n",
      "Epoch 24/50\n",
      "\u001b[1m8/8\u001b[0m \u001b[32m━━━━━━━━━━━━━━━━━━━━\u001b[0m\u001b[37m\u001b[0m \u001b[1m0s\u001b[0m 8ms/step - loss: 119299997958144.0000 - mae: 10216377.0000 - val_loss: 126255580053504.0000 - val_mae: 10686363.0000\n",
      "Epoch 25/50\n",
      "\u001b[1m8/8\u001b[0m \u001b[32m━━━━━━━━━━━━━━━━━━━━\u001b[0m\u001b[37m\u001b[0m \u001b[1m0s\u001b[0m 5ms/step - loss: 116943352758272.0000 - mae: 10089874.0000 - val_loss: 126247996751872.0000 - val_mae: 10686052.0000\n",
      "Epoch 26/50\n",
      "\u001b[1m8/8\u001b[0m \u001b[32m━━━━━━━━━━━━━━━━━━━━\u001b[0m\u001b[37m\u001b[0m \u001b[1m0s\u001b[0m 8ms/step - loss: 123906341994496.0000 - mae: 10548390.0000 - val_loss: 126239524257792.0000 - val_mae: 10685707.0000\n",
      "Epoch 27/50\n",
      "\u001b[1m8/8\u001b[0m \u001b[32m━━━━━━━━━━━━━━━━━━━━\u001b[0m\u001b[37m\u001b[0m \u001b[1m0s\u001b[0m 6ms/step - loss: 115184337158144.0000 - mae: 9958373.0000 - val_loss: 126230481338368.0000 - val_mae: 10685338.0000\n",
      "Epoch 28/50\n",
      "\u001b[1m8/8\u001b[0m \u001b[32m━━━━━━━━━━━━━━━━━━━━\u001b[0m\u001b[37m\u001b[0m \u001b[1m0s\u001b[0m 8ms/step - loss: 120221629153280.0000 - mae: 10439148.0000 - val_loss: 126220733775872.0000 - val_mae: 10684940.0000\n",
      "Epoch 29/50\n",
      "\u001b[1m8/8\u001b[0m \u001b[32m━━━━━━━━━━━━━━━━━━━━\u001b[0m\u001b[37m\u001b[0m \u001b[1m0s\u001b[0m 6ms/step - loss: 113594511392768.0000 - mae: 10092581.0000 - val_loss: 126210248015872.0000 - val_mae: 10684512.0000\n",
      "Epoch 30/50\n",
      "\u001b[1m8/8\u001b[0m \u001b[32m━━━━━━━━━━━━━━━━━━━━\u001b[0m\u001b[37m\u001b[0m \u001b[1m0s\u001b[0m 9ms/step - loss: 116385158004736.0000 - mae: 10256542.0000 - val_loss: 126198671736832.0000 - val_mae: 10684040.0000\n",
      "Epoch 31/50\n",
      "\u001b[1m8/8\u001b[0m \u001b[32m━━━━━━━━━━━━━━━━━━━━\u001b[0m\u001b[37m\u001b[0m \u001b[1m0s\u001b[0m 7ms/step - loss: 119207052181504.0000 - mae: 10200248.0000 - val_loss: 126186533421056.0000 - val_mae: 10683547.0000\n",
      "Epoch 32/50\n",
      "\u001b[1m8/8\u001b[0m \u001b[32m━━━━━━━━━━━━━━━━━━━━\u001b[0m\u001b[37m\u001b[0m \u001b[1m0s\u001b[0m 8ms/step - loss: 115238829555712.0000 - mae: 10294830.0000 - val_loss: 126173665296384.0000 - val_mae: 10683022.0000\n",
      "Epoch 33/50\n",
      "\u001b[1m8/8\u001b[0m \u001b[32m━━━━━━━━━━━━━━━━━━━━\u001b[0m\u001b[37m\u001b[0m \u001b[1m0s\u001b[0m 6ms/step - loss: 108803114663936.0000 - mae: 9937188.0000 - val_loss: 126160017031168.0000 - val_mae: 10682466.0000\n",
      "Epoch 34/50\n",
      "\u001b[1m8/8\u001b[0m \u001b[32m━━━━━━━━━━━━━━━━━━━━\u001b[0m\u001b[37m\u001b[0m \u001b[1m0s\u001b[0m 5ms/step - loss: 109332595212288.0000 - mae: 9817076.0000 - val_loss: 126145051754496.0000 - val_mae: 10681857.0000\n",
      "Epoch 35/50\n",
      "\u001b[1m8/8\u001b[0m \u001b[32m━━━━━━━━━━━━━━━━━━━━\u001b[0m\u001b[37m\u001b[0m \u001b[1m0s\u001b[0m 8ms/step - loss: 110774496264192.0000 - mae: 9739325.0000 - val_loss: 126129214062592.0000 - val_mae: 10681211.0000\n",
      "Epoch 36/50\n",
      "\u001b[1m8/8\u001b[0m \u001b[32m━━━━━━━━━━━━━━━━━━━━\u001b[0m\u001b[37m\u001b[0m \u001b[1m0s\u001b[0m 5ms/step - loss: 97634966568960.0000 - mae: 9171416.0000 - val_loss: 126112940163072.0000 - val_mae: 10680550.0000\n",
      "Epoch 37/50\n",
      "\u001b[1m8/8\u001b[0m \u001b[32m━━━━━━━━━━━━━━━━━━━━\u001b[0m\u001b[37m\u001b[0m \u001b[1m0s\u001b[0m 8ms/step - loss: 113262423179264.0000 - mae: 9933083.0000 - val_loss: 126094837547008.0000 - val_mae: 10679812.0000\n",
      "Epoch 38/50\n",
      "\u001b[1m8/8\u001b[0m \u001b[32m━━━━━━━━━━━━━━━━━━━━\u001b[0m\u001b[37m\u001b[0m \u001b[1m0s\u001b[0m 7ms/step - loss: 117989378621440.0000 - mae: 10270151.0000 - val_loss: 126075677966336.0000 - val_mae: 10679032.0000\n",
      "Epoch 39/50\n",
      "\u001b[1m8/8\u001b[0m \u001b[32m━━━━━━━━━━━━━━━━━━━━\u001b[0m\u001b[37m\u001b[0m \u001b[1m0s\u001b[0m 8ms/step - loss: 115312674471936.0000 - mae: 10187959.0000 - val_loss: 126055494975488.0000 - val_mae: 10678212.0000\n",
      "Epoch 40/50\n",
      "\u001b[1m8/8\u001b[0m \u001b[32m━━━━━━━━━━━━━━━━━━━━\u001b[0m\u001b[37m\u001b[0m \u001b[1m0s\u001b[0m 7ms/step - loss: 108073716809728.0000 - mae: 9787315.0000 - val_loss: 126034825445376.0000 - val_mae: 10677371.0000\n",
      "Epoch 41/50\n",
      "\u001b[1m8/8\u001b[0m \u001b[32m━━━━━━━━━━━━━━━━━━━━\u001b[0m\u001b[37m\u001b[0m \u001b[1m0s\u001b[0m 5ms/step - loss: 114973674045440.0000 - mae: 9985281.0000 - val_loss: 126012763406336.0000 - val_mae: 10676473.0000\n",
      "Epoch 42/50\n",
      "\u001b[1m8/8\u001b[0m \u001b[32m━━━━━━━━━━━━━━━━━━━━\u001b[0m\u001b[37m\u001b[0m \u001b[1m0s\u001b[0m 8ms/step - loss: 120598369927168.0000 - mae: 10236181.0000 - val_loss: 125989241749504.0000 - val_mae: 10675516.0000\n",
      "Epoch 43/50\n",
      "\u001b[1m8/8\u001b[0m \u001b[32m━━━━━━━━━━━━━━━━━━━━\u001b[0m\u001b[37m\u001b[0m \u001b[1m0s\u001b[0m 5ms/step - loss: 122343242334208.0000 - mae: 10510933.0000 - val_loss: 125964898009088.0000 - val_mae: 10674526.0000\n",
      "Epoch 44/50\n",
      "\u001b[1m8/8\u001b[0m \u001b[32m━━━━━━━━━━━━━━━━━━━━\u001b[0m\u001b[37m\u001b[0m \u001b[1m0s\u001b[0m 5ms/step - loss: 103792448110592.0000 - mae: 9535493.0000 - val_loss: 125940050952192.0000 - val_mae: 10673515.0000\n",
      "Epoch 45/50\n",
      "\u001b[1m8/8\u001b[0m \u001b[32m━━━━━━━━━━━━━━━━━━━━\u001b[0m\u001b[37m\u001b[0m \u001b[1m0s\u001b[0m 5ms/step - loss: 106291439599616.0000 - mae: 9703293.0000 - val_loss: 125913039634432.0000 - val_mae: 10672418.0000\n",
      "Epoch 46/50\n",
      "\u001b[1m8/8\u001b[0m \u001b[32m━━━━━━━━━━━━━━━━━━━━\u001b[0m\u001b[37m\u001b[0m \u001b[1m0s\u001b[0m 6ms/step - loss: 110544983949312.0000 - mae: 9909359.0000 - val_loss: 125885172678656.0000 - val_mae: 10671284.0000\n",
      "Epoch 47/50\n",
      "\u001b[1m8/8\u001b[0m \u001b[32m━━━━━━━━━━━━━━━━━━━━\u001b[0m\u001b[37m\u001b[0m \u001b[1m0s\u001b[0m 5ms/step - loss: 112923875737600.0000 - mae: 10022604.0000 - val_loss: 125855745441792.0000 - val_mae: 10670087.0000\n",
      "Epoch 48/50\n",
      "\u001b[1m8/8\u001b[0m \u001b[32m━━━━━━━━━━━━━━━━━━━━\u001b[0m\u001b[37m\u001b[0m \u001b[1m0s\u001b[0m 6ms/step - loss: 108278440787968.0000 - mae: 9840349.0000 - val_loss: 125825194131456.0000 - val_mae: 10668846.0000\n",
      "Epoch 49/50\n",
      "\u001b[1m8/8\u001b[0m \u001b[32m━━━━━━━━━━━━━━━━━━━━\u001b[0m\u001b[37m\u001b[0m \u001b[1m0s\u001b[0m 8ms/step - loss: 105972924153856.0000 - mae: 9738396.0000 - val_loss: 125793451638784.0000 - val_mae: 10667554.0000\n",
      "Epoch 50/50\n",
      "\u001b[1m8/8\u001b[0m \u001b[32m━━━━━━━━━━━━━━━━━━━━\u001b[0m\u001b[37m\u001b[0m \u001b[1m0s\u001b[0m 8ms/step - loss: 110734801371136.0000 - mae: 10066183.0000 - val_loss: 125759561662464.0000 - val_mae: 10666176.0000\n",
      "\u001b[1m1/1\u001b[0m \u001b[32m━━━━━━━━━━━━━━━━━━━━\u001b[0m\u001b[37m\u001b[0m \u001b[1m0s\u001b[0m 132ms/step - loss: 132380807397376.0000 - mae: 10941933.0000\n",
      "Test Loss: 132380807397376.0, Test MAE: 10941933.0\n"
     ]
    }
   ],
   "source": [
    "# Example: Generate dummy training data\n",
    "np.random.seed(42)\n",
    "n_samples = 100\n",
    "latitudes = np.random.uniform(-90, 90, n_samples)\n",
    "longitudes = np.random.uniform(-180, 180, n_samples)\n",
    "placeholders = np.zeros(n_samples)  # Placeholder feature\n",
    "\n",
    "# Combine features\n",
    "X_train = np.column_stack((latitudes, longitudes, placeholders))\n",
    "\n",
    "# Generate labels: distances from a fixed origin (e.g., [0, 0])\n",
    "origin = (0.0, 0.0)\n",
    "y_train = np.array([\n",
    "    geodesic((lat, lon), origin).meters for lat, lon in zip(latitudes, longitudes)\n",
    "])\n",
    "\n",
    "# Train-test split\n",
    "from sklearn.model_selection import train_test_split\n",
    "X_train, X_test, y_train, y_test = train_test_split(X_train, y_train, test_size=0.2, random_state=42)\n",
    "\n",
    "# Train the model\n",
    "history = model.fit(\n",
    "    X_train, y_train,\n",
    "    validation_split=0.2,\n",
    "    epochs=50,\n",
    "    batch_size=8,\n",
    "    verbose=1\n",
    ")\n",
    "\n",
    "# Evaluate the model\n",
    "loss, mae = model.evaluate(X_test, y_test)\n",
    "print(f\"Test Loss: {loss}, Test MAE: {mae}\")"
   ]
  },
  {
   "cell_type": "code",
   "execution_count": 83,
   "metadata": {
    "id": "92JYPMZ9Yobt"
   },
   "outputs": [],
   "source": [
    "from geopy.distance import geodesic\n",
    "\n",
    "# Function to optimize route from start to farthest point\n",
    "def optimize_route(addresses, coordinates):\n",
    "    \"\"\"\n",
    "    Addresses: List of dicts with latitude and longitude\n",
    "    Start_point: Dict with latitude and longitude\n",
    "    \"\"\"\n",
    "\n",
    "    try:\n",
    "        print(\"Starting optimization for addresses:\", addresses)\n",
    "\n",
    "        # Gunakan alamat pertama sebagai titik awal\n",
    "        start_point = {\"address\": addresses[0], \"latitude\": coordinates[0][0], \"longitude\": coordinates[0][1]}\n",
    "        print(\"Start Point:\", start_point)\n",
    "\n",
    "        # Calculate distances from start_point using geodesic\n",
    "        distances = [\n",
    "            {\n",
    "                \"index\": idx,\n",
    "                \"address\": addresses[idx],\n",
    "                \"distance\": geodesic(\n",
    "                    (start_point[\"latitude\"], start_point[\"longitude\"]),\n",
    "                    coord\n",
    "                ).meters,\n",
    "            }\n",
    "            for idx, coord in enumerate(coordinates[1:], start=1)\n",
    "        ]\n",
    "\n",
    "        # Urutkan berdasarkan jarak\n",
    "        sorted_distances = sorted(distances, key=lambda x: x[\"distance\"])\n",
    "        print(\"Sorted Distances:\", sorted_distances)\n",
    "\n",
    "        # Tensor input untuk prediksi model\n",
    "        input_tensor = np.array([[lat, lon, 0] for lat, lon in coordinates], dtype=np.float32)\n",
    "        print(\"Input Tensor Shape:\", input_tensor.shape)\n",
    "\n",
    "        # Muat model TensorFlow\n",
    "        predictions = model.predict(input_tensor)\n",
    "\n",
    "        # Gabungkan prediksi dengan hasil jarak\n",
    "        for idx, prediction in enumerate(predictions):\n",
    "            if idx > 0:  # Skip start_point\n",
    "                sorted_distances[idx - 1][\"prediction\"] = prediction[0]\n",
    "\n",
    "        # Urutkan berdasarkan jarak dan prediksi (jika diperlukan)\n",
    "        final_sorted = sorted(sorted_distances, key=lambda x: x[\"distance\"])\n",
    "        print(\"Final Sorted:\", final_sorted)\n",
    "\n",
    "        # Susun rute akhir\n",
    "        optimized_route = [start_point[\"address\"]] + [item[\"address\"] for item in final_sorted]\n",
    "        print(\"Optimized Route:\", optimized_route)\n",
    "\n",
    "        return {\n",
    "            \"optimizedRoute\": optimized_route\n",
    "        }\n",
    "\n",
    "    except Exception as e:\n",
    "        print(\"Error in optimize_route:\", str(e))\n",
    "        raise e"
   ]
  },
  {
   "cell_type": "code",
   "execution_count": 91,
   "metadata": {
    "colab": {
     "base_uri": "https://localhost:8080/"
    },
    "id": "n1W9xwccYpoP",
    "outputId": "f6e6fbf9-49bc-46fe-ecec-4da6fd4c49ad"
   },
   "outputs": [
    {
     "name": "stdout",
     "output_type": "stream",
     "text": [
      "Starting optimization for addresses: ['UPN Veteran Jawa Timur', 'Muhammad Cheng Hoo Mosque', 'UNAIR Kampus C', 'ITS']\n",
      "Start Point: {'address': 'UPN Veteran Jawa Timur', 'latitude': -7.333721199999999, 'longitude': 112.7883247}\n",
      "Sorted Distances: [{'index': 3, 'address': 'ITS', 'distance': 6016.178444278844}, {'index': 2, 'address': 'UNAIR Kampus C', 'distance': 7203.184921933534}, {'index': 1, 'address': 'Muhammad Cheng Hoo Mosque', 'distance': 10138.40480647809}]\n",
      "Input Tensor Shape: (4, 3)\n",
      "\u001b[1m1/1\u001b[0m \u001b[32m━━━━━━━━━━━━━━━━━━━━\u001b[0m\u001b[37m\u001b[0m \u001b[1m0s\u001b[0m 22ms/step\n",
      "Final Sorted: [{'index': 3, 'address': 'ITS', 'distance': 6016.178444278844, 'prediction': 29158.46}, {'index': 2, 'address': 'UNAIR Kampus C', 'distance': 7203.184921933534, 'prediction': 29170.473}, {'index': 1, 'address': 'Muhammad Cheng Hoo Mosque', 'distance': 10138.40480647809, 'prediction': 29175.719}]\n",
      "Optimized Route: ['UPN Veteran Jawa Timur', 'ITS', 'UNAIR Kampus C', 'Muhammad Cheng Hoo Mosque']\n"
     ]
    }
   ],
   "source": [
    "# Example usage\n",
    "addresses = [\n",
    "    \"UPN Veteran Jawa Timur\",\n",
    "    \"Muhammad Cheng Hoo Mosque\",\n",
    "    \"UNAIR Kampus C\",\n",
    "    \"ITS\"\n",
    "\n",
    "]\n",
    "\n",
    "coordinates = [\n",
    "    (-7.333721199999999, 112.7883247),\n",
    "    (-7.251958099999999, 112.7468025),\n",
    "    (-7.268716200000001, 112.7842396),\n",
    "    (-7.2801485, 112.7977885)\n",
    "]\n",
    "\n",
    "# start_point = {\"latitude\": -7.3336995, \"longitude\": 112.7698706}\n",
    "\n",
    "resut = optimize_route(addresses, coordinates)\n",
    "\n",
    "# print(\"\\nOptimized Route Results:\")\n",
    "# print(\"Start Point:\", result[\"startPoint\"])\n",
    "# print(\"Nearest Point:\", result[\"nearestPoint\"])\n",
    "# print(\"Farthest Point:\", result[\"farthestPoint\"])\n",
    "# print(\"Optimized Route:\", result[\"optimizedRoute\"])"
   ]
  },
  {
   "cell_type": "code",
   "execution_count": null,
   "metadata": {
    "colab": {
     "base_uri": "https://localhost:8080/"
    },
    "id": "VBuQgxQIX3zh",
    "outputId": "b33995b1-c864-4bcc-9062-9eea7512910d"
   },
   "outputs": [
    {
     "name": "stderr",
     "output_type": "stream",
     "text": [
      "WARNING:absl:You are saving your model as an HDF5 file via `model.save()` or `keras.saving.save_model(model)`. This file format is considered legacy. We recommend using instead the native Keras format, e.g. `model.save('my_model.keras')` or `keras.saving.save_model(model, 'my_model.keras')`. \n"
     ]
    }
   ],
   "source": [
    "model.save('/content/gdrive/My Drive/Colab Notebooks/Capstone/model.h5')"
   ]
  },
  {
   "cell_type": "code",
   "execution_count": 87,
   "metadata": {
    "colab": {
     "base_uri": "https://localhost:8080/"
    },
    "id": "MykLXy3WHyug",
    "outputId": "5181f85f-be6e-4551-a726-b9342c4bc755"
   },
   "outputs": [
    {
     "name": "stdout",
     "output_type": "stream",
     "text": [
      "Saved artifact at 'saved_model'. The following endpoints are available:\n",
      "\n",
      "* Endpoint 'serve'\n",
      "  args_0 (POSITIONAL_ONLY): TensorSpec(shape=(None, 3), dtype=tf.float32, name='keras_tensor_15')\n",
      "Output Type:\n",
      "  TensorSpec(shape=(None, 1), dtype=tf.float32, name=None)\n",
      "Captures:\n",
      "  136300885362112: TensorSpec(shape=(), dtype=tf.resource, name=None)\n",
      "  136300849749456: TensorSpec(shape=(), dtype=tf.resource, name=None)\n",
      "  136300849757728: TensorSpec(shape=(), dtype=tf.resource, name=None)\n",
      "  136300789169696: TensorSpec(shape=(), dtype=tf.resource, name=None)\n",
      "  136300789165648: TensorSpec(shape=(), dtype=tf.resource, name=None)\n",
      "  136300888253968: TensorSpec(shape=(), dtype=tf.resource, name=None)\n"
     ]
    }
   ],
   "source": [
    "model.export('saved_model')"
   ]
  },
  {
   "cell_type": "code",
   "execution_count": 30,
   "metadata": {
    "colab": {
     "base_uri": "https://localhost:8080/"
    },
    "id": "LWXyDCrQH5Tx",
    "outputId": "6e70d341-b5a0-4550-a588-f31d4a614db6"
   },
   "outputs": [
    {
     "name": "stdout",
     "output_type": "stream",
     "text": [
      "Requirement already satisfied: tensorflowjs in /usr/local/lib/python3.10/dist-packages (4.22.0)\n",
      "Requirement already satisfied: flax>=0.7.2 in /usr/local/lib/python3.10/dist-packages (from tensorflowjs) (0.8.5)\n",
      "Requirement already satisfied: importlib_resources>=5.9.0 in /usr/local/lib/python3.10/dist-packages (from tensorflowjs) (6.4.5)\n",
      "Requirement already satisfied: jax>=0.4.13 in /usr/local/lib/python3.10/dist-packages (from tensorflowjs) (0.4.33)\n",
      "Requirement already satisfied: jaxlib>=0.4.13 in /usr/local/lib/python3.10/dist-packages (from tensorflowjs) (0.4.33)\n",
      "Requirement already satisfied: tensorflow<3,>=2.13.0 in /usr/local/lib/python3.10/dist-packages (from tensorflowjs) (2.18.0)\n",
      "Requirement already satisfied: tf-keras>=2.13.0 in /usr/local/lib/python3.10/dist-packages (from tensorflowjs) (2.18.0)\n",
      "Requirement already satisfied: tensorflow-decision-forests>=1.5.0 in /usr/local/lib/python3.10/dist-packages (from tensorflowjs) (1.11.0)\n",
      "Requirement already satisfied: six<2,>=1.16.0 in /usr/local/lib/python3.10/dist-packages (from tensorflowjs) (1.16.0)\n",
      "Requirement already satisfied: tensorflow-hub>=0.16.1 in /usr/local/lib/python3.10/dist-packages (from tensorflowjs) (0.16.1)\n",
      "Requirement already satisfied: packaging~=23.1 in /usr/local/lib/python3.10/dist-packages (from tensorflowjs) (23.2)\n",
      "Requirement already satisfied: numpy>=1.22 in /usr/local/lib/python3.10/dist-packages (from flax>=0.7.2->tensorflowjs) (1.26.4)\n",
      "Requirement already satisfied: msgpack in /usr/local/lib/python3.10/dist-packages (from flax>=0.7.2->tensorflowjs) (1.1.0)\n",
      "Requirement already satisfied: optax in /usr/local/lib/python3.10/dist-packages (from flax>=0.7.2->tensorflowjs) (0.2.4)\n",
      "Requirement already satisfied: orbax-checkpoint in /usr/local/lib/python3.10/dist-packages (from flax>=0.7.2->tensorflowjs) (0.6.4)\n",
      "Requirement already satisfied: tensorstore in /usr/local/lib/python3.10/dist-packages (from flax>=0.7.2->tensorflowjs) (0.1.69)\n",
      "Requirement already satisfied: rich>=11.1 in /usr/local/lib/python3.10/dist-packages (from flax>=0.7.2->tensorflowjs) (13.9.4)\n",
      "Requirement already satisfied: typing-extensions>=4.2 in /usr/local/lib/python3.10/dist-packages (from flax>=0.7.2->tensorflowjs) (4.12.2)\n",
      "Requirement already satisfied: PyYAML>=5.4.1 in /usr/local/lib/python3.10/dist-packages (from flax>=0.7.2->tensorflowjs) (6.0.2)\n",
      "Requirement already satisfied: ml-dtypes>=0.2.0 in /usr/local/lib/python3.10/dist-packages (from jax>=0.4.13->tensorflowjs) (0.4.1)\n",
      "Requirement already satisfied: opt-einsum in /usr/local/lib/python3.10/dist-packages (from jax>=0.4.13->tensorflowjs) (3.4.0)\n",
      "Requirement already satisfied: scipy>=1.10 in /usr/local/lib/python3.10/dist-packages (from jax>=0.4.13->tensorflowjs) (1.13.1)\n",
      "Requirement already satisfied: absl-py>=1.0.0 in /usr/local/lib/python3.10/dist-packages (from tensorflow<3,>=2.13.0->tensorflowjs) (1.4.0)\n",
      "Requirement already satisfied: astunparse>=1.6.0 in /usr/local/lib/python3.10/dist-packages (from tensorflow<3,>=2.13.0->tensorflowjs) (1.6.3)\n",
      "Requirement already satisfied: flatbuffers>=24.3.25 in /usr/local/lib/python3.10/dist-packages (from tensorflow<3,>=2.13.0->tensorflowjs) (24.3.25)\n",
      "Requirement already satisfied: gast!=0.5.0,!=0.5.1,!=0.5.2,>=0.2.1 in /usr/local/lib/python3.10/dist-packages (from tensorflow<3,>=2.13.0->tensorflowjs) (0.6.0)\n",
      "Requirement already satisfied: google-pasta>=0.1.1 in /usr/local/lib/python3.10/dist-packages (from tensorflow<3,>=2.13.0->tensorflowjs) (0.2.0)\n",
      "Requirement already satisfied: libclang>=13.0.0 in /usr/local/lib/python3.10/dist-packages (from tensorflow<3,>=2.13.0->tensorflowjs) (18.1.1)\n",
      "Requirement already satisfied: protobuf!=4.21.0,!=4.21.1,!=4.21.2,!=4.21.3,!=4.21.4,!=4.21.5,<6.0.0dev,>=3.20.3 in /usr/local/lib/python3.10/dist-packages (from tensorflow<3,>=2.13.0->tensorflowjs) (4.25.5)\n",
      "Requirement already satisfied: requests<3,>=2.21.0 in /usr/local/lib/python3.10/dist-packages (from tensorflow<3,>=2.13.0->tensorflowjs) (2.32.3)\n",
      "Requirement already satisfied: setuptools in /usr/local/lib/python3.10/dist-packages (from tensorflow<3,>=2.13.0->tensorflowjs) (75.1.0)\n",
      "Requirement already satisfied: termcolor>=1.1.0 in /usr/local/lib/python3.10/dist-packages (from tensorflow<3,>=2.13.0->tensorflowjs) (2.5.0)\n",
      "Requirement already satisfied: wrapt>=1.11.0 in /usr/local/lib/python3.10/dist-packages (from tensorflow<3,>=2.13.0->tensorflowjs) (1.17.0)\n",
      "Requirement already satisfied: grpcio<2.0,>=1.24.3 in /usr/local/lib/python3.10/dist-packages (from tensorflow<3,>=2.13.0->tensorflowjs) (1.68.1)\n",
      "Requirement already satisfied: tensorboard<2.19,>=2.18 in /usr/local/lib/python3.10/dist-packages (from tensorflow<3,>=2.13.0->tensorflowjs) (2.18.0)\n",
      "Requirement already satisfied: keras>=3.5.0 in /usr/local/lib/python3.10/dist-packages (from tensorflow<3,>=2.13.0->tensorflowjs) (3.5.0)\n",
      "Requirement already satisfied: h5py>=3.11.0 in /usr/local/lib/python3.10/dist-packages (from tensorflow<3,>=2.13.0->tensorflowjs) (3.12.1)\n",
      "Requirement already satisfied: tensorflow-io-gcs-filesystem>=0.23.1 in /usr/local/lib/python3.10/dist-packages (from tensorflow<3,>=2.13.0->tensorflowjs) (0.37.1)\n",
      "Requirement already satisfied: pandas in /usr/local/lib/python3.10/dist-packages (from tensorflow-decision-forests>=1.5.0->tensorflowjs) (2.2.2)\n",
      "Requirement already satisfied: wheel in /usr/local/lib/python3.10/dist-packages (from tensorflow-decision-forests>=1.5.0->tensorflowjs) (0.45.1)\n",
      "Requirement already satisfied: wurlitzer in /usr/local/lib/python3.10/dist-packages (from tensorflow-decision-forests>=1.5.0->tensorflowjs) (3.1.1)\n",
      "Requirement already satisfied: ydf in /usr/local/lib/python3.10/dist-packages (from tensorflow-decision-forests>=1.5.0->tensorflowjs) (0.9.0)\n",
      "Requirement already satisfied: namex in /usr/local/lib/python3.10/dist-packages (from keras>=3.5.0->tensorflow<3,>=2.13.0->tensorflowjs) (0.0.8)\n",
      "Requirement already satisfied: optree in /usr/local/lib/python3.10/dist-packages (from keras>=3.5.0->tensorflow<3,>=2.13.0->tensorflowjs) (0.13.1)\n",
      "Requirement already satisfied: charset-normalizer<4,>=2 in /usr/local/lib/python3.10/dist-packages (from requests<3,>=2.21.0->tensorflow<3,>=2.13.0->tensorflowjs) (3.4.0)\n",
      "Requirement already satisfied: idna<4,>=2.5 in /usr/local/lib/python3.10/dist-packages (from requests<3,>=2.21.0->tensorflow<3,>=2.13.0->tensorflowjs) (3.10)\n",
      "Requirement already satisfied: urllib3<3,>=1.21.1 in /usr/local/lib/python3.10/dist-packages (from requests<3,>=2.21.0->tensorflow<3,>=2.13.0->tensorflowjs) (2.2.3)\n",
      "Requirement already satisfied: certifi>=2017.4.17 in /usr/local/lib/python3.10/dist-packages (from requests<3,>=2.21.0->tensorflow<3,>=2.13.0->tensorflowjs) (2024.8.30)\n",
      "Requirement already satisfied: markdown-it-py>=2.2.0 in /usr/local/lib/python3.10/dist-packages (from rich>=11.1->flax>=0.7.2->tensorflowjs) (3.0.0)\n",
      "Requirement already satisfied: pygments<3.0.0,>=2.13.0 in /usr/local/lib/python3.10/dist-packages (from rich>=11.1->flax>=0.7.2->tensorflowjs) (2.18.0)\n",
      "Requirement already satisfied: markdown>=2.6.8 in /usr/local/lib/python3.10/dist-packages (from tensorboard<2.19,>=2.18->tensorflow<3,>=2.13.0->tensorflowjs) (3.7)\n",
      "Requirement already satisfied: tensorboard-data-server<0.8.0,>=0.7.0 in /usr/local/lib/python3.10/dist-packages (from tensorboard<2.19,>=2.18->tensorflow<3,>=2.13.0->tensorflowjs) (0.7.2)\n",
      "Requirement already satisfied: werkzeug>=1.0.1 in /usr/local/lib/python3.10/dist-packages (from tensorboard<2.19,>=2.18->tensorflow<3,>=2.13.0->tensorflowjs) (3.1.3)\n",
      "Requirement already satisfied: chex>=0.1.87 in /usr/local/lib/python3.10/dist-packages (from optax->flax>=0.7.2->tensorflowjs) (0.1.87)\n",
      "Requirement already satisfied: etils[epy] in /usr/local/lib/python3.10/dist-packages (from optax->flax>=0.7.2->tensorflowjs) (1.11.0)\n",
      "Requirement already satisfied: nest_asyncio in /usr/local/lib/python3.10/dist-packages (from orbax-checkpoint->flax>=0.7.2->tensorflowjs) (1.6.0)\n",
      "Requirement already satisfied: humanize in /usr/local/lib/python3.10/dist-packages (from orbax-checkpoint->flax>=0.7.2->tensorflowjs) (4.11.0)\n",
      "Requirement already satisfied: python-dateutil>=2.8.2 in /usr/local/lib/python3.10/dist-packages (from pandas->tensorflow-decision-forests>=1.5.0->tensorflowjs) (2.8.2)\n",
      "Requirement already satisfied: pytz>=2020.1 in /usr/local/lib/python3.10/dist-packages (from pandas->tensorflow-decision-forests>=1.5.0->tensorflowjs) (2024.2)\n",
      "Requirement already satisfied: tzdata>=2022.7 in /usr/local/lib/python3.10/dist-packages (from pandas->tensorflow-decision-forests>=1.5.0->tensorflowjs) (2024.2)\n",
      "Requirement already satisfied: toolz>=0.9.0 in /usr/local/lib/python3.10/dist-packages (from chex>=0.1.87->optax->flax>=0.7.2->tensorflowjs) (0.12.1)\n",
      "Requirement already satisfied: mdurl~=0.1 in /usr/local/lib/python3.10/dist-packages (from markdown-it-py>=2.2.0->rich>=11.1->flax>=0.7.2->tensorflowjs) (0.1.2)\n",
      "Requirement already satisfied: MarkupSafe>=2.1.1 in /usr/local/lib/python3.10/dist-packages (from werkzeug>=1.0.1->tensorboard<2.19,>=2.18->tensorflow<3,>=2.13.0->tensorflowjs) (3.0.2)\n",
      "Requirement already satisfied: fsspec in /usr/local/lib/python3.10/dist-packages (from etils[epath,epy]->orbax-checkpoint->flax>=0.7.2->tensorflowjs) (2024.10.0)\n",
      "Requirement already satisfied: zipp in /usr/local/lib/python3.10/dist-packages (from etils[epath,epy]->orbax-checkpoint->flax>=0.7.2->tensorflowjs) (3.21.0)\n"
     ]
    }
   ],
   "source": [
    "pip install tensorflowjs"
   ]
  },
  {
   "cell_type": "code",
   "execution_count": 88,
   "metadata": {
    "colab": {
     "base_uri": "https://localhost:8080/"
    },
    "id": "C4VSeOMaH2kl",
    "outputId": "15d48b08-1678-4ecc-9564-7e592e8da068"
   },
   "outputs": [
    {
     "name": "stdout",
     "output_type": "stream",
     "text": [
      "2024-12-11 08:17:54.851185: E external/local_xla/xla/stream_executor/cuda/cuda_fft.cc:477] Unable to register cuFFT factory: Attempting to register factory for plugin cuFFT when one has already been registered\n",
      "WARNING: All log messages before absl::InitializeLog() is called are written to STDERR\n",
      "E0000 00:00:1733905074.892395   70053 cuda_dnn.cc:8310] Unable to register cuDNN factory: Attempting to register factory for plugin cuDNN when one has already been registered\n",
      "E0000 00:00:1733905074.905657   70053 cuda_blas.cc:1418] Unable to register cuBLAS factory: Attempting to register factory for plugin cuBLAS when one has already been registered\n",
      "\u001b[32m🌲 Try \u001b[0m\u001b[34mhttps://ydf.readthedocs.io\u001b[0m\u001b[32m, the successor of TensorFlow Decision Forests with more features and faster training!\u001b[0m\n",
      "2024-12-11 08:17:59.998299: E external/local_xla/xla/stream_executor/cuda/cuda_driver.cc:152] failed call to cuInit: INTERNAL: CUDA error: Failed call to cuInit: UNKNOWN ERROR (303)\n",
      "I0000 00:00:1733905080.084884   70053 devices.cc:67] Number of eligible GPUs (core count >= 8, compute capability >= 0.0): 0\n",
      "WARNING: All log messages before absl::InitializeLog() is called are written to STDERR\n",
      "I0000 00:00:1733905080.085192   70053 single_machine.cc:361] Starting new session\n",
      "updating: neural_network_model_tfjs/ (stored 0%)\n",
      "updating: neural_network_model_tfjs/model.json (deflated 84%)\n",
      "updating: neural_network_model_tfjs/group1-shard1of1.bin (deflated 8%)\n"
     ]
    }
   ],
   "source": [
    "#!tensorflowjs_converter --input_format keras new_model.h5 ./output_model\n",
    "!tensorflowjs_converter --input_format=tf_saved_model saved_model neural_network_model_tfjs --skip_op_check\n",
    "!zip -r model_json_baru.zip neural_network_model_tfjs"
   ]
  }
 ],
 "metadata": {
  "colab": {
   "provenance": []
  },
  "kernelspec": {
   "display_name": "Python 3",
   "name": "python3"
  },
  "language_info": {
   "name": "python"
  }
 },
 "nbformat": 4,
 "nbformat_minor": 0
}
